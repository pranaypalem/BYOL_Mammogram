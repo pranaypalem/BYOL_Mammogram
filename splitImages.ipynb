{
 "cells": [
  {
   "cell_type": "code",
   "execution_count": 1,
   "id": "6752326f",
   "metadata": {},
   "outputs": [],
   "source": [
    "# Cell 1: Imports and Constants\n",
    "import shutil\n",
    "from pathlib import Path\n",
    "import pandas as pd\n",
    "from tqdm import tqdm\n",
    "\n",
    "# Columns we expect\n",
    "COLUMNS = [\n",
    "    \"study_id\",\n",
    "    \"series_id\",\n",
    "    \"image_id\",\n",
    "    \"laterality\",\n",
    "    \"view_position\",\n",
    "    \"height\",\n",
    "    \"width\",\n",
    "    \"breast_birads\",\n",
    "    \"breast_density\",\n",
    "    \"split\",\n",
    "]\n",
    "\n",
    "CSV_PATH = Path(\"/home/pranaypalem/Downloads/VinDr_png_archive/breast-level_annotations.csv\")\n",
    "IMAGES_ROOT = Path(\"/home/pranaypalem/Downloads/VinDr_png_archive/images_png\")\n",
    "OUT_ROOT = Path(\"/home/pranaypalem/Downloads/VinDr_png_archive/split_images\")\n"
   ]
  },
  {
   "cell_type": "code",
   "execution_count": 2,
   "id": "cd4a9f22",
   "metadata": {},
   "outputs": [
    {
     "name": "stdout",
     "output_type": "stream",
     "text": [
      "Columns found: ['study_id', 'series_id', 'image_id', 'laterality', 'view_position', 'height', 'width', 'breast_birads', 'breast_density', 'split']\n"
     ]
    },
    {
     "data": {
      "text/html": [
       "<div>\n",
       "<style scoped>\n",
       "    .dataframe tbody tr th:only-of-type {\n",
       "        vertical-align: middle;\n",
       "    }\n",
       "\n",
       "    .dataframe tbody tr th {\n",
       "        vertical-align: top;\n",
       "    }\n",
       "\n",
       "    .dataframe thead th {\n",
       "        text-align: right;\n",
       "    }\n",
       "</style>\n",
       "<table border=\"1\" class=\"dataframe\">\n",
       "  <thead>\n",
       "    <tr style=\"text-align: right;\">\n",
       "      <th></th>\n",
       "      <th>study_id</th>\n",
       "      <th>series_id</th>\n",
       "      <th>image_id</th>\n",
       "      <th>laterality</th>\n",
       "      <th>view_position</th>\n",
       "      <th>height</th>\n",
       "      <th>width</th>\n",
       "      <th>breast_birads</th>\n",
       "      <th>breast_density</th>\n",
       "      <th>split</th>\n",
       "    </tr>\n",
       "  </thead>\n",
       "  <tbody>\n",
       "    <tr>\n",
       "      <th>0</th>\n",
       "      <td>b8d273e8601f348d3664778dae0e7e0b</td>\n",
       "      <td>b36517b9cbbcfd286a7ae04f643af97a</td>\n",
       "      <td>d8125545210c08e1b1793a5af6458ee2</td>\n",
       "      <td>L</td>\n",
       "      <td>CC</td>\n",
       "      <td>3518</td>\n",
       "      <td>2800</td>\n",
       "      <td>BI-RADS 2</td>\n",
       "      <td>DENSITY C</td>\n",
       "      <td>training</td>\n",
       "    </tr>\n",
       "    <tr>\n",
       "      <th>1</th>\n",
       "      <td>b8d273e8601f348d3664778dae0e7e0b</td>\n",
       "      <td>b36517b9cbbcfd286a7ae04f643af97a</td>\n",
       "      <td>290c658f4e75a3f83ec78a847414297c</td>\n",
       "      <td>L</td>\n",
       "      <td>MLO</td>\n",
       "      <td>3518</td>\n",
       "      <td>2800</td>\n",
       "      <td>BI-RADS 2</td>\n",
       "      <td>DENSITY C</td>\n",
       "      <td>training</td>\n",
       "    </tr>\n",
       "    <tr>\n",
       "      <th>2</th>\n",
       "      <td>b8d273e8601f348d3664778dae0e7e0b</td>\n",
       "      <td>b36517b9cbbcfd286a7ae04f643af97a</td>\n",
       "      <td>cd0fc7bc53ac632a11643ac4cc91002a</td>\n",
       "      <td>R</td>\n",
       "      <td>CC</td>\n",
       "      <td>3518</td>\n",
       "      <td>2800</td>\n",
       "      <td>BI-RADS 2</td>\n",
       "      <td>DENSITY C</td>\n",
       "      <td>training</td>\n",
       "    </tr>\n",
       "    <tr>\n",
       "      <th>3</th>\n",
       "      <td>b8d273e8601f348d3664778dae0e7e0b</td>\n",
       "      <td>b36517b9cbbcfd286a7ae04f643af97a</td>\n",
       "      <td>71638b1e853799f227492bfb08a01491</td>\n",
       "      <td>R</td>\n",
       "      <td>MLO</td>\n",
       "      <td>3518</td>\n",
       "      <td>2800</td>\n",
       "      <td>BI-RADS 2</td>\n",
       "      <td>DENSITY C</td>\n",
       "      <td>training</td>\n",
       "    </tr>\n",
       "    <tr>\n",
       "      <th>4</th>\n",
       "      <td>8269f5971eaca3e5d3772d1796e6bd7a</td>\n",
       "      <td>d931832a0815df082c085b6e09d20aac</td>\n",
       "      <td>dd9ce3288c0773e006a294188aadba8e</td>\n",
       "      <td>L</td>\n",
       "      <td>CC</td>\n",
       "      <td>3518</td>\n",
       "      <td>2800</td>\n",
       "      <td>BI-RADS 1</td>\n",
       "      <td>DENSITY C</td>\n",
       "      <td>training</td>\n",
       "    </tr>\n",
       "  </tbody>\n",
       "</table>\n",
       "</div>"
      ],
      "text/plain": [
       "                           study_id                         series_id  \\\n",
       "0  b8d273e8601f348d3664778dae0e7e0b  b36517b9cbbcfd286a7ae04f643af97a   \n",
       "1  b8d273e8601f348d3664778dae0e7e0b  b36517b9cbbcfd286a7ae04f643af97a   \n",
       "2  b8d273e8601f348d3664778dae0e7e0b  b36517b9cbbcfd286a7ae04f643af97a   \n",
       "3  b8d273e8601f348d3664778dae0e7e0b  b36517b9cbbcfd286a7ae04f643af97a   \n",
       "4  8269f5971eaca3e5d3772d1796e6bd7a  d931832a0815df082c085b6e09d20aac   \n",
       "\n",
       "                           image_id laterality view_position  height  width  \\\n",
       "0  d8125545210c08e1b1793a5af6458ee2          L            CC    3518   2800   \n",
       "1  290c658f4e75a3f83ec78a847414297c          L           MLO    3518   2800   \n",
       "2  cd0fc7bc53ac632a11643ac4cc91002a          R            CC    3518   2800   \n",
       "3  71638b1e853799f227492bfb08a01491          R           MLO    3518   2800   \n",
       "4  dd9ce3288c0773e006a294188aadba8e          L            CC    3518   2800   \n",
       "\n",
       "  breast_birads breast_density     split  \n",
       "0     BI-RADS 2      DENSITY C  training  \n",
       "1     BI-RADS 2      DENSITY C  training  \n",
       "2     BI-RADS 2      DENSITY C  training  \n",
       "3     BI-RADS 2      DENSITY C  training  \n",
       "4     BI-RADS 1      DENSITY C  training  "
      ]
     },
     "execution_count": 2,
     "metadata": {},
     "output_type": "execute_result"
    }
   ],
   "source": [
    "# Cell 2: Load the CSV and inspect\n",
    "df = pd.read_csv(CSV_PATH, usecols=COLUMNS)\n",
    "print(\"Columns found:\", list(df.columns))\n",
    "df.head()\n"
   ]
  },
  {
   "cell_type": "code",
   "execution_count": 3,
   "id": "eb82a0a0",
   "metadata": {},
   "outputs": [],
   "source": [
    "# Cell 3: Define the function to resolve image paths\n",
    "def resolve_source_path(images_root: Path, study_id: str, image_id: str) -> Path | None:\n",
    "    \"\"\"\n",
    "    Try a few sensible filename patterns to find the source image.\n",
    "    \"\"\"\n",
    "    p = images_root / study_id / image_id\n",
    "    if p.exists():\n",
    "        return p\n",
    "\n",
    "    p_png = (images_root / study_id / image_id).with_suffix(\".png\")\n",
    "    if p_png.exists():\n",
    "        return p_png\n",
    "\n",
    "    candidates = list((images_root / study_id).glob(f\"{image_id}.*\"))\n",
    "    if candidates:\n",
    "        return candidates[0]\n",
    "\n",
    "    return None\n"
   ]
  },
  {
   "cell_type": "code",
   "execution_count": 4,
   "id": "2266b000",
   "metadata": {},
   "outputs": [
    {
     "name": "stdout",
     "output_type": "stream",
     "text": [
      "\n",
      "Copying 4000 images to: /home/pranaypalem/Downloads/VinDr_png_archive/split_images/test\n"
     ]
    },
    {
     "name": "stderr",
     "output_type": "stream",
     "text": [
      "test: 100%|██████████| 4000/4000 [00:02<00:00, 1410.48it/s]\n"
     ]
    },
    {
     "name": "stdout",
     "output_type": "stream",
     "text": [
      "\n",
      "Copying 16000 images to: /home/pranaypalem/Downloads/VinDr_png_archive/split_images/training\n"
     ]
    },
    {
     "name": "stderr",
     "output_type": "stream",
     "text": [
      "training: 100%|██████████| 16000/16000 [00:11<00:00, 1398.26it/s]"
     ]
    },
    {
     "name": "stdout",
     "output_type": "stream",
     "text": [
      "\n",
      "Done.\n"
     ]
    },
    {
     "name": "stderr",
     "output_type": "stream",
     "text": [
      "\n"
     ]
    }
   ],
   "source": [
    "# Cell 4: Create split folders and copy images\n",
    "OUT_ROOT.mkdir(parents=True, exist_ok=True)\n",
    "\n",
    "for split_name, group in df.groupby(\"split\"):\n",
    "    dest_dir = OUT_ROOT / split_name\n",
    "    dest_dir.mkdir(parents=True, exist_ok=True)\n",
    "\n",
    "    print(f\"\\nCopying {len(group)} images to: {dest_dir}\")\n",
    "    for row in tqdm(group.itertuples(index=False), total=len(group), desc=f\"{split_name}\"):\n",
    "        study_id = str(row.study_id)\n",
    "        image_id = str(row.image_id)\n",
    "\n",
    "        src = resolve_source_path(IMAGES_ROOT, study_id, image_id)\n",
    "        if src is None:\n",
    "            tqdm.write(f\"WARNING: Missing image for study_id={study_id}, image_id={image_id}\")\n",
    "            continue\n",
    "\n",
    "        dst = dest_dir / f\"{study_id}_{src.name}\"\n",
    "        try:\n",
    "            shutil.copy2(src, dst)\n",
    "        except Exception as e:\n",
    "            tqdm.write(f\"ERROR copying {src} -> {dst}: {e}\")\n",
    "\n",
    "print(\"\\nDone.\")\n"
   ]
  },
  {
   "cell_type": "code",
   "execution_count": null,
   "id": "e4cd180a",
   "metadata": {},
   "outputs": [],
   "source": []
  }
 ],
 "metadata": {
  "kernelspec": {
   "display_name": "byol_vindr",
   "language": "python",
   "name": "python3"
  },
  "language_info": {
   "codemirror_mode": {
    "name": "ipython",
    "version": 3
   },
   "file_extension": ".py",
   "mimetype": "text/x-python",
   "name": "python",
   "nbconvert_exporter": "python",
   "pygments_lexer": "ipython3",
   "version": "3.10.18"
  }
 },
 "nbformat": 4,
 "nbformat_minor": 5
}
